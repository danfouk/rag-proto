from sentence_transformers import SentenceTransformer
from glob import glob
 